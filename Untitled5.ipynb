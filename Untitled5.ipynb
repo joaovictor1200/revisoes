{
  "nbformat": 4,
  "nbformat_minor": 0,
  "metadata": {
    "colab": {
      "provenance": [],
      "authorship_tag": "ABX9TyMYy/P/BKPyaNEXH45/rihB",
      "include_colab_link": true
    },
    "kernelspec": {
      "name": "python3",
      "display_name": "Python 3"
    },
    "language_info": {
      "name": "python"
    }
  },
  "cells": [
    {
      "cell_type": "markdown",
      "metadata": {
        "id": "view-in-github",
        "colab_type": "text"
      },
      "source": [
        "<a href=\"https://colab.research.google.com/github/joaovictor1200/revisoes/blob/main/Untitled5.ipynb\" target=\"_parent\"><img src=\"https://colab.research.google.com/assets/colab-badge.svg\" alt=\"Open In Colab\"/></a>"
      ]
    },
    {
      "cell_type": "code",
      "execution_count": null,
      "metadata": {
        "id": "Yct5vPf0YNlH"
      },
      "outputs": [],
      "source": [
        "carro = ['bmw, hb20, honda, civic']\n",
        "carro = input('insira um nome de um carro: ')\n",
        "\n",
        "while carro != '0':\n",
        "  carro.append(carro)\n",
        "  carro = input('insira um nome de um carro: ')\n",
        "print = (carro)\n",
        "print(len(carro))"
      ]
    },
    {
      "cell_type": "code",
      "source": [
        "carros = []\n",
        "\n",
        "while True:\n",
        "  carro = input('digite um carro: ')\n",
        "  if carro == '0':\n",
        "    break\n",
        "  carros"
      ],
      "metadata": {
        "id": "lr056BFRbSni"
      },
      "execution_count": null,
      "outputs": []
    },
    {
      "cell_type": "code",
      "source": [],
      "metadata": {
        "id": "afBCgxWldE5D"
      },
      "execution_count": null,
      "outputs": []
    },
    {
      "cell_type": "code",
      "source": [
        "lista = [\"maça\", \"banana\", \"laranja\"]\n",
        "\n",
        "lista.remove('maça')\n",
        "print(lista)"
      ],
      "metadata": {
        "id": "NOKFltaueuz-"
      },
      "execution_count": null,
      "outputs": []
    },
    {
      "cell_type": "code",
      "source": [
        "notas = [6, 8, 5, 4, 7, 7, 9, 3, 6]\n",
        "notas = [x for x in notas if x >= 6]\n",
        "\n",
        "print(notas)"
      ],
      "metadata": {
        "colab": {
          "base_uri": "https://localhost:8080/"
        },
        "id": "8GHRIJn9hiWQ",
        "outputId": "eef76c23-6b3e-445c-8ed8-043c2753bd47"
      },
      "execution_count": 6,
      "outputs": [
        {
          "output_type": "stream",
          "name": "stdout",
          "text": [
            "[6, 8, 7, 7, 9, 6]\n"
          ]
        }
      ]
    },
    {
      "cell_type": "code",
      "source": [
        "print('Menu')\n",
        "print = (\"1. adicionar tarefa\")\n",
        "input = ('escolha uma opção: ')"
      ],
      "metadata": {
        "id": "CFLhZLk8jCxw"
      },
      "execution_count": null,
      "outputs": []
    }
  ]
}