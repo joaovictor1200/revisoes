{
  "nbformat": 4,
  "nbformat_minor": 0,
  "metadata": {
    "colab": {
      "provenance": [],
      "authorship_tag": "ABX9TyPQNGFrmlxyHBBSDwQpEs2N",
      "include_colab_link": true
    },
    "kernelspec": {
      "name": "python3",
      "display_name": "Python 3"
    },
    "language_info": {
      "name": "python"
    }
  },
  "cells": [
    {
      "cell_type": "markdown",
      "metadata": {
        "id": "view-in-github",
        "colab_type": "text"
      },
      "source": [
        "<a href=\"https://colab.research.google.com/github/joaovictor1200/revisoes/blob/main/Untitled1.ipynb\" target=\"_parent\"><img src=\"https://colab.research.google.com/assets/colab-badge.svg\" alt=\"Open In Colab\"/></a>"
      ]
    },
    {
      "cell_type": "code",
      "execution_count": null,
      "metadata": {
        "colab": {
          "base_uri": "https://localhost:8080/"
        },
        "id": "qteIifUmReq5",
        "outputId": "ab338758-d38f-41e6-db60-de4c1f131864"
      },
      "outputs": [
        {
          "output_type": "stream",
          "name": "stdout",
          "text": [
            "qual a temperatura?23\n",
            "73.4\n"
          ]
        }
      ],
      "source": [
        "# temperatura em Fahrenheit\n",
        "tempC = float(input('qual a temperatura?'))\n",
        "tempFah=(tempC*9/5)+32\n",
        "print(tempFah)"
      ]
    },
    {
      "cell_type": "code",
      "source": [
        "idade = 16\n",
        "if idade > 18:\n",
        "  print('é maior de idade')"
      ],
      "metadata": {
        "id": "QKsSOigpTYn8"
      },
      "execution_count": null,
      "outputs": []
    },
    {
      "cell_type": "code",
      "source": [
        "idoso = 5\n",
        "if idoso > 60:\n",
        "  print('é idoso')\n",
        "elif idade >= 35:\n",
        "  print('meia idade')\n",
        "elif idade >= 18:\n",
        "  print('adulto')\n",
        "else:\n",
        "  print('tu é de menor')"
      ],
      "metadata": {
        "colab": {
          "base_uri": "https://localhost:8080/"
        },
        "id": "j3Dx3IQEVzLO",
        "outputId": "4eff1473-642c-4a74-b8aa-963c4a478eb4"
      },
      "execution_count": null,
      "outputs": [
        {
          "output_type": "stream",
          "name": "stdout",
          "text": [
            "adulto\n"
          ]
        }
      ]
    },
    {
      "cell_type": "code",
      "source": [
        "compras ate r$100,00 - sem desconto\n",
        "compras entre r$ 101,00 e r$500  - desconto de 10%\n",
        "compras entre r$ 501,00 e r$1000 - desconto de 20%\n",
        "compras acima de r$1000,00 - desconto de 30%\n"
      ],
      "metadata": {
        "id": "5DBUHqRVX9AL"
      },
      "execution_count": null,
      "outputs": []
    },
    {
      "cell_type": "code",
      "source": [
        "idade = 17\n",
        "temCNH = True\n",
        "if idade > 18:\n",
        "  if temCNH:\n",
        "    print('pode dirigir')\n",
        "  else:\n",
        "    print('sem habilitação não pode dirigir')\n",
        "else:\n",
        "  print('menor de idade não pode dirigir')"
      ],
      "metadata": {
        "colab": {
          "base_uri": "https://localhost:8080/"
        },
        "id": "HElGhP7KeTmL",
        "outputId": "f835e960-2b5c-4bb1-a8cb-9b07de1f04d1"
      },
      "execution_count": null,
      "outputs": [
        {
          "output_type": "stream",
          "name": "stdout",
          "text": [
            "menor de idade não pode dirigir\n"
          ]
        }
      ]
    }
  ]
}